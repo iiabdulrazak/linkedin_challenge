{
 "cells": [
  {
   "cell_type": "code",
   "execution_count": 90,
   "id": "018d27e9-c001-491a-9782-16f912da5938",
   "metadata": {},
   "outputs": [],
   "source": [
    "#Needed packages\n",
    "import pandas as pd\n",
    "from minio import Minio\n",
    "from io import BytesIO"
   ]
  },
  {
   "cell_type": "code",
   "execution_count": 101,
   "id": "c7c5330f-ecb0-453d-a77d-616b525320da",
   "metadata": {},
   "outputs": [],
   "source": [
    "#All dataset sheets in the 'Followers.xlsx' file\n",
    "visitorMetrics = pd.read_excel(\"data/original/Visitors.xlsx\", sheet_name=\"Visitor metrics\")\n",
    "visitorMetrics.to_csv(\"data/created/visitorMetrics.csv\", index=False)\n",
    "\n",
    "visitorsLocation = pd.read_excel(\"data/original/Visitors.xlsx\", sheet_name=\"Location\")\n",
    "visitorsLocation.to_csv(\"data/created/visitorsLocation.csv\", index=False)\n",
    "\n",
    "visitorsJobFuncton = pd.read_excel(\"data/original/Visitors.xlsx\", sheet_name=\"Job function\")\n",
    "visitorsJobFuncton.to_csv(\"data/created/visitorsJobFuncton.csv\", index=False)\n",
    "\n",
    "visitorsSeniority = pd.read_excel(\"data/original/Visitors.xlsx\", sheet_name=\"Seniority\")\n",
    "visitorsSeniority.to_csv(\"data/created/visitorsSeniority.csv\", index=False)\n",
    "\n",
    "visitorsIndustry = pd.read_excel(\"data/original/Visitors.xlsx\", sheet_name=\"Industry\")\n",
    "visitorsIndustry.to_csv(\"data/created/visitorsIndustry.csv\", index=False)\n",
    "\n",
    "visitorsCompanySize = pd.read_excel(\"data/original/Visitors.xlsx\", sheet_name=\"Company size\")\n",
    "visitorsCompanySize.to_csv(\"data/created/visitorsCompanySize.csv\", index=False)"
   ]
  },
  {
   "cell_type": "code",
   "execution_count": 102,
   "id": "a5df0e10-f3cc-4a6d-b3d9-d00214635098",
   "metadata": {},
   "outputs": [],
   "source": [
    "#Establishing connection with minio\n",
    "client =  Minio('minio:9000', access_key=\"admin\", secret_key=\"Zaak@1101\", secure=False)"
   ]
  },
  {
   "cell_type": "code",
   "execution_count": 103,
   "id": "6dccb1c3-5239-44ce-b72f-75a9526e1c07",
   "metadata": {},
   "outputs": [
    {
     "name": "stdout",
     "output_type": "stream",
     "text": [
      "data-bucket exists\n"
     ]
    }
   ],
   "source": [
    "#Checking if the bucket exist\n",
    "#or it will create new one\n",
    "bucketName = \"data-bucket\"\n",
    "if client.bucket_exists(bucketName):\n",
    "    print(f\"{bucketName} exists\")\n",
    "else:\n",
    "    client.make_bucket(bucketName, \"us-west-0\")\n",
    "    print(f\"{bucketName} have been created!!\")"
   ]
  },
  {
   "cell_type": "code",
   "execution_count": 111,
   "id": "573353cd-4bba-4a67-944d-2175f51ae6f3",
   "metadata": {},
   "outputs": [
    {
     "name": "stdout",
     "output_type": "stream",
     "text": [
      "visitorsCompanySize have been created!\n"
     ]
    }
   ],
   "source": [
    "#Uploading files to minio bucket\n",
    "fileName = \"visitorsCompanySize\"\n",
    "dataBucket = visitorsCompanySize.to_csv().encode('utf-8')\n",
    "try:\n",
    "    client.put_object(\n",
    "    bucketName,\n",
    "    \"data/visitorsCompanySize.csv\",\n",
    "    data=BytesIO(dataBucket),\n",
    "    length=len(dataBucket),\n",
    "    content_type='application/csv'\n",
    "    )\n",
    "    print(f\"{fileName} have been created!\")\n",
    "except:\n",
    "    print(f\"Couldn't create {fileName}\")"
   ]
  },
  {
   "cell_type": "code",
   "execution_count": null,
   "id": "2d60a67d-c8dc-4d02-9cbb-07c04821f2e5",
   "metadata": {},
   "outputs": [],
   "source": []
  },
  {
   "cell_type": "code",
   "execution_count": null,
   "id": "c71937c2-fb47-470d-a789-345248a2fc88",
   "metadata": {},
   "outputs": [],
   "source": []
  }
 ],
 "metadata": {
  "kernelspec": {
   "display_name": "Python 3 (ipykernel)",
   "language": "python",
   "name": "python3"
  },
  "language_info": {
   "codemirror_mode": {
    "name": "ipython",
    "version": 3
   },
   "file_extension": ".py",
   "mimetype": "text/x-python",
   "name": "python",
   "nbconvert_exporter": "python",
   "pygments_lexer": "ipython3",
   "version": "3.9.10"
  }
 },
 "nbformat": 4,
 "nbformat_minor": 5
}
