{
 "cells": [
  {
   "cell_type": "code",
   "execution_count": 45,
   "id": "018d27e9-c001-491a-9782-16f912da5938",
   "metadata": {},
   "outputs": [],
   "source": [
    "#Needed packages\n",
    "import pandas as pd\n",
    "from minio import Minio\n",
    "from io import BytesIO"
   ]
  },
  {
   "cell_type": "code",
   "execution_count": 59,
   "id": "c7c5330f-ecb0-453d-a77d-616b525320da",
   "metadata": {},
   "outputs": [],
   "source": [
    "#All dataset sheets in the 'Followers.xlsx' file\n",
    "newFollowers = pd.read_excel(\"data/original/Followers.xlsx\", sheet_name='New followers')\n",
    "newFollowers.to_csv(\"data/created/newFollowers.csv\", index=False)\n",
    "\n",
    "location = pd.read_excel(\"data/original/Followers.xlsx\", sheet_name='Location')\n",
    "location.to_csv(\"data/created/location.csv\", index=False)\n",
    "\n",
    "jobFunction = pd.read_excel(\"data/original/Followers.xlsx\", sheet_name='Job function')\n",
    "jobFunction.to_csv(\"data/created/jobFunction.csv\", index=False)\n",
    "\n",
    "seniority = pd.read_excel(\"data/original/Followers.xlsx\", sheet_name='Seniority')\n",
    "seniority.to_csv(\"data/created/seniority.csv\", index=False)\n",
    "\n",
    "industry = pd.read_excel(\"data/original/Followers.xlsx\", sheet_name='Industry')\n",
    "industry.to_csv(\"data/created/industry.csv\", index=False)\n",
    "\n",
    "companySize = pd.read_excel(\"data/original/Followers.xlsx\", sheet_name='Company size')\n",
    "companySize.to_csv(\"data/created/companySize.csv\", index=False)"
   ]
  },
  {
   "cell_type": "code",
   "execution_count": 61,
   "id": "a5df0e10-f3cc-4a6d-b3d9-d00214635098",
   "metadata": {},
   "outputs": [],
   "source": [
    "#Establishing connection with minio\n",
    "client =  Minio('minio:9000', access_key=\"admin\", secret_key=\"Zaak@1101\", secure=False)"
   ]
  },
  {
   "cell_type": "code",
   "execution_count": 70,
   "id": "6dccb1c3-5239-44ce-b72f-75a9526e1c07",
   "metadata": {},
   "outputs": [
    {
     "name": "stdout",
     "output_type": "stream",
     "text": [
      "data-bucket have been created!!\n"
     ]
    }
   ],
   "source": [
    "#Checking if the bucket exist\n",
    "#or it will create new one\n",
    "bucketName = \"data-bucket\"\n",
    "if client.bucket_exists(bucketName):\n",
    "    print(f\"{bucketName} exists\")\n",
    "else:\n",
    "    client.make_bucket(bucketName, \"us-west-0\")\n",
    "    print(f\"{bucketName} have been created!!\")"
   ]
  },
  {
   "cell_type": "code",
   "execution_count": 76,
   "id": "573353cd-4bba-4a67-944d-2175f51ae6f3",
   "metadata": {},
   "outputs": [
    {
     "data": {
      "text/plain": [
       "<minio.helpers.ObjectWriteResult at 0x7f8c24757430>"
      ]
     },
     "execution_count": 76,
     "metadata": {},
     "output_type": "execute_result"
    }
   ],
   "source": [
    "#Uploading files to minio bucket\n",
    "dataBucket = companySize.to_csv().encode('utf-8')\n",
    "client.put_object(\n",
    "    bucketName,\n",
    "    \"data/companySize.csv\",\n",
    "    data=BytesIO(dataBucket),\n",
    "    length=len(dataBucket),\n",
    "    content_type='application/csv'\n",
    ")"
   ]
  },
  {
   "cell_type": "code",
   "execution_count": null,
   "id": "2d60a67d-c8dc-4d02-9cbb-07c04821f2e5",
   "metadata": {},
   "outputs": [],
   "source": []
  }
 ],
 "metadata": {
  "kernelspec": {
   "display_name": "Python 3 (ipykernel)",
   "language": "python",
   "name": "python3"
  },
  "language_info": {
   "codemirror_mode": {
    "name": "ipython",
    "version": 3
   },
   "file_extension": ".py",
   "mimetype": "text/x-python",
   "name": "python",
   "nbconvert_exporter": "python",
   "pygments_lexer": "ipython3",
   "version": "3.9.10"
  }
 },
 "nbformat": 4,
 "nbformat_minor": 5
}
